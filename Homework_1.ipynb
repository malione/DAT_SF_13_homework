{
 "metadata": {
  "name": ""
 },
 "nbformat": 3,
 "nbformat_minor": 0,
 "worksheets": [
  {
   "cells": [
    {
     "cell_type": "heading",
     "level": 1,
     "metadata": {},
     "source": [
      "Homework #1 -- Michael Malione"
     ]
    },
    {
     "cell_type": "code",
     "collapsed": false,
     "input": [
      "from __future__ import division\n",
      "\n",
      "import numpy as np\n",
      "import pandas as pd\n",
      "# import seaborn as sns\n",
      "import matplotlib.pyplot as plt\n",
      "\n",
      "%matplotlib inline\n",
      "#Floats only show two digits for display\n",
      "pd.set_option('display.precision', 4)\n",
      "\n",
      "#Read in the Titanic data.\n",
      "titanic_data = pd.read_csv('titanic.csv')\n",
      "titanic_data.head()"
     ],
     "language": "python",
     "metadata": {},
     "outputs": [
      {
       "html": [
        "<div style=\"max-height:1000px;max-width:1500px;overflow:auto;\">\n",
        "<table border=\"1\" class=\"dataframe\">\n",
        "  <thead>\n",
        "    <tr style=\"text-align: right;\">\n",
        "      <th></th>\n",
        "      <th>PassengerId</th>\n",
        "      <th>Survived</th>\n",
        "      <th>Pclass</th>\n",
        "      <th>Name</th>\n",
        "      <th>Sex</th>\n",
        "      <th>Age</th>\n",
        "      <th>SibSp</th>\n",
        "      <th>Parch</th>\n",
        "      <th>Ticket</th>\n",
        "      <th>Fare</th>\n",
        "      <th>Cabin</th>\n",
        "      <th>Embarked</th>\n",
        "    </tr>\n",
        "  </thead>\n",
        "  <tbody>\n",
        "    <tr>\n",
        "      <th>0</th>\n",
        "      <td> 1</td>\n",
        "      <td> 0</td>\n",
        "      <td> 3</td>\n",
        "      <td>                           Braund, Mr. Owen Harris</td>\n",
        "      <td>   male</td>\n",
        "      <td> 22</td>\n",
        "      <td> 1</td>\n",
        "      <td> 0</td>\n",
        "      <td>        A/5 21171</td>\n",
        "      <td>  7.250</td>\n",
        "      <td>  NaN</td>\n",
        "      <td> S</td>\n",
        "    </tr>\n",
        "    <tr>\n",
        "      <th>1</th>\n",
        "      <td> 2</td>\n",
        "      <td> 1</td>\n",
        "      <td> 1</td>\n",
        "      <td> Cumings, Mrs. John Bradley (Florence Briggs Th...</td>\n",
        "      <td> female</td>\n",
        "      <td> 38</td>\n",
        "      <td> 1</td>\n",
        "      <td> 0</td>\n",
        "      <td>         PC 17599</td>\n",
        "      <td> 71.283</td>\n",
        "      <td>  C85</td>\n",
        "      <td> C</td>\n",
        "    </tr>\n",
        "    <tr>\n",
        "      <th>2</th>\n",
        "      <td> 3</td>\n",
        "      <td> 1</td>\n",
        "      <td> 3</td>\n",
        "      <td>                            Heikkinen, Miss. Laina</td>\n",
        "      <td> female</td>\n",
        "      <td> 26</td>\n",
        "      <td> 0</td>\n",
        "      <td> 0</td>\n",
        "      <td> STON/O2. 3101282</td>\n",
        "      <td>  7.925</td>\n",
        "      <td>  NaN</td>\n",
        "      <td> S</td>\n",
        "    </tr>\n",
        "    <tr>\n",
        "      <th>3</th>\n",
        "      <td> 4</td>\n",
        "      <td> 1</td>\n",
        "      <td> 1</td>\n",
        "      <td>      Futrelle, Mrs. Jacques Heath (Lily May Peel)</td>\n",
        "      <td> female</td>\n",
        "      <td> 35</td>\n",
        "      <td> 1</td>\n",
        "      <td> 0</td>\n",
        "      <td>           113803</td>\n",
        "      <td> 53.100</td>\n",
        "      <td> C123</td>\n",
        "      <td> S</td>\n",
        "    </tr>\n",
        "    <tr>\n",
        "      <th>4</th>\n",
        "      <td> 5</td>\n",
        "      <td> 0</td>\n",
        "      <td> 3</td>\n",
        "      <td>                          Allen, Mr. William Henry</td>\n",
        "      <td>   male</td>\n",
        "      <td> 35</td>\n",
        "      <td> 0</td>\n",
        "      <td> 0</td>\n",
        "      <td>           373450</td>\n",
        "      <td>  8.050</td>\n",
        "      <td>  NaN</td>\n",
        "      <td> S</td>\n",
        "    </tr>\n",
        "  </tbody>\n",
        "</table>\n",
        "</div>"
       ],
       "metadata": {},
       "output_type": "pyout",
       "prompt_number": 36,
       "text": [
        "   PassengerId  Survived  Pclass  \\\n",
        "0            1         0       3   \n",
        "1            2         1       1   \n",
        "2            3         1       3   \n",
        "3            4         1       1   \n",
        "4            5         0       3   \n",
        "\n",
        "                                                Name     Sex  Age  SibSp  \\\n",
        "0                            Braund, Mr. Owen Harris    male   22      1   \n",
        "1  Cumings, Mrs. John Bradley (Florence Briggs Th...  female   38      1   \n",
        "2                             Heikkinen, Miss. Laina  female   26      0   \n",
        "3       Futrelle, Mrs. Jacques Heath (Lily May Peel)  female   35      1   \n",
        "4                           Allen, Mr. William Henry    male   35      0   \n",
        "\n",
        "   Parch            Ticket    Fare Cabin Embarked  \n",
        "0      0         A/5 21171   7.250   NaN        S  \n",
        "1      0          PC 17599  71.283   C85        C  \n",
        "2      0  STON/O2. 3101282   7.925   NaN        S  \n",
        "3      0            113803  53.100  C123        S  \n",
        "4      0            373450   8.050   NaN        S  "
       ]
      }
     ],
     "prompt_number": 36
    },
    {
     "cell_type": "markdown",
     "metadata": {},
     "source": [
      "- passengerid: unique identifier for each passenger\n",
      "- survived: our classifier: 1 - survived, 0 deceased\n",
      "- pclass: which class the passengers ticket was (first (Rose), second, third (Jack))\n",
      "- name: the passenger's name\n",
      "- sex: the passenger's gender\n",
      "- age: the passenger's age\n",
      "- sibsp: how many siblings / spouses passenger traveled with\n",
      "- parch: parents travelled with\n",
      "- ticket: the ticket's assigned identifier code\n",
      "- fare: cost of ticket\n",
      "- cabin: the passenger's cabin identifier \n",
      "- embarked: port of embarcation"
     ]
    },
    {
     "cell_type": "heading",
     "level": 3,
     "metadata": {},
     "source": [
      "1.\tHow many passengers are in our passenger list? <small>From here forward, we\u2019ll assume our dataset represents the full passenger list for the Titanic.</small>"
     ]
    },
    {
     "cell_type": "code",
     "collapsed": false,
     "input": [
      "a = titanic_data['PassengerId'].count()\n",
      "b = titanic_data['Embarked'].count()\n",
      "c = len(set(titanic_data['Name']))\n",
      "print a, b, c"
     ],
     "language": "python",
     "metadata": {},
     "outputs": [
      {
       "output_type": "stream",
       "stream": "stdout",
       "text": [
        " 891 889 891\n"
       ]
      }
     ],
     "prompt_number": 30
    },
    {
     "cell_type": "markdown",
     "metadata": {},
     "source": [
      "I ran count on a few of the fields to confort myself that there weren't any entirely bad records. Since 891 unique names appeared in the list, I am confident that there are 891 passengers on the list."
     ]
    },
    {
     "cell_type": "heading",
     "level": 3,
     "metadata": {},
     "source": [
      "2.\tWhat is the overall survival rate?"
     ]
    },
    {
     "cell_type": "code",
     "collapsed": false,
     "input": [
      "info = titanic_data.Survived.value_counts()\n",
      "print info[1] / (info[0] + info[1])\n",
      "print \"{} survived and {} perished\".format(info[1], info[0])"
     ],
     "language": "python",
     "metadata": {},
     "outputs": [
      {
       "output_type": "stream",
       "stream": "stdout",
       "text": [
        "0.383838383838\n",
        "342 survived and 549 perished\n"
       ]
      }
     ],
     "prompt_number": 80
    },
    {
     "cell_type": "markdown",
     "metadata": {},
     "source": [
      "The overall survival rate is approximately 38.4%"
     ]
    },
    {
     "cell_type": "heading",
     "level": 3,
     "metadata": {},
     "source": [
      "3.\tHow many male passengers were onboard?"
     ]
    },
    {
     "cell_type": "code",
     "collapsed": false,
     "input": [
      "info = titanic_data.Sex.value_counts()\n",
      "print info"
     ],
     "language": "python",
     "metadata": {},
     "outputs": [
      {
       "output_type": "stream",
       "stream": "stdout",
       "text": [
        "male      577\n",
        "female    314\n",
        "dtype: int64\n"
       ]
      }
     ],
     "prompt_number": 55
    },
    {
     "cell_type": "markdown",
     "metadata": {},
     "source": [
      "There were 577 male passengers aboard."
     ]
    },
    {
     "cell_type": "heading",
     "level": 3,
     "metadata": {},
     "source": [
      "4.\tHow many female passengers were onboard?"
     ]
    },
    {
     "cell_type": "code",
     "collapsed": false,
     "input": [
      "info = titanic_data.Sex.value_counts()\n",
      "print info"
     ],
     "language": "python",
     "metadata": {},
     "outputs": [
      {
       "output_type": "stream",
       "stream": "stdout",
       "text": [
        "male      577\n",
        "female    314\n",
        "dtype: int64\n"
       ]
      }
     ],
     "prompt_number": 55
    },
    {
     "cell_type": "markdown",
     "metadata": {},
     "source": [
      "There were 314 female passengers aboard."
     ]
    },
    {
     "cell_type": "heading",
     "level": 3,
     "metadata": {},
     "source": [
      "5.\tWhat is the overall survival rate of male passengers?"
     ]
    },
    {
     "cell_type": "code",
     "collapsed": false,
     "input": [
      "male_data = titanic_data[titanic_data.Sex == 'male']\n",
      "\n",
      "info = male_data.Survived.value_counts()\n",
      "print info[1] / (info[0] + info[1])\n",
      "print \"{} men survived and {} men perished\".format(info[1], info[0])"
     ],
     "language": "python",
     "metadata": {},
     "outputs": [
      {
       "output_type": "stream",
       "stream": "stdout",
       "text": [
        "0.188908145581\n",
        "109 men survived and 468 men perished\n"
       ]
      }
     ],
     "prompt_number": 81
    },
    {
     "cell_type": "markdown",
     "metadata": {},
     "source": [
      "The overall survival rate of male passengers is approximately 18.9%"
     ]
    },
    {
     "cell_type": "heading",
     "level": 3,
     "metadata": {},
     "source": [
      "6.\tWhat is the overall survival rate of female passengers?"
     ]
    },
    {
     "cell_type": "code",
     "collapsed": false,
     "input": [
      "female_data = titanic_data[titanic_data.Sex == 'female']\n",
      "\n",
      "info = female_data.Survived.value_counts()\n",
      "print info[1] / (info[0] + info[1])\n",
      "print \"{} women survived and {} women perished\".format(info[1], info[0])"
     ],
     "language": "python",
     "metadata": {},
     "outputs": [
      {
       "output_type": "stream",
       "stream": "stdout",
       "text": [
        "0.742038216561\n",
        "233 women survived and 81 women perished\n"
       ]
      }
     ],
     "prompt_number": 82
    },
    {
     "cell_type": "markdown",
     "metadata": {},
     "source": [
      "The overall survival rate of female passengers is approximately 74.2%"
     ]
    },
    {
     "cell_type": "heading",
     "level": 3,
     "metadata": {},
     "source": [
      "7.\tWhat is the average age of all passengers onboard?"
     ]
    },
    {
     "cell_type": "code",
     "collapsed": false,
     "input": [
      "# Count how many values in Age are NaN\n",
      "nan_ages = np.isnan(titanic_data.Age)\n",
      "print nan_ages.value_counts()\n",
      "\n",
      "# Describe the overall Age field data\n",
      "titanic_data.Age.describe()"
     ],
     "language": "python",
     "metadata": {},
     "outputs": [
      {
       "output_type": "stream",
       "stream": "stdout",
       "text": [
        "False    714\n",
        "True     177\n",
        "dtype: int64\n"
       ]
      },
      {
       "metadata": {},
       "output_type": "pyout",
       "prompt_number": 67,
       "text": [
        "count    714.000\n",
        "mean      29.699\n",
        "std       14.526\n",
        "min        0.420\n",
        "25%       20.125\n",
        "50%       28.000\n",
        "75%       38.000\n",
        "max       80.000\n",
        "dtype: float64"
       ]
      }
     ],
     "prompt_number": 67
    },
    {
     "cell_type": "markdown",
     "metadata": {},
     "source": [
      "The mean age, assuming that the unknown ages have the same mean as the known ages, is 29.699. (NOTE: I also paid attention to the face that the min age was greater than zero. If I'd found a min age of 0, I would filter out these values as well.)"
     ]
    },
    {
     "cell_type": "heading",
     "level": 4,
     "metadata": {},
     "source": [
      "&nbsp;&nbsp;&nbsp;&nbsp;7a.\tHow did you calculate this average age?"
     ]
    },
    {
     "cell_type": "markdown",
     "metadata": {},
     "source": [
      "I calculated the average age by looking at the mean provided by the describe() method, which is the mean of all the known ages provided in the data. There were 714 known ages and 177 unknown ages."
     ]
    },
    {
     "cell_type": "heading",
     "level": 4,
     "metadata": {},
     "source": [
      "&nbsp;&nbsp;&nbsp;&nbsp;7b.\tNote that some of the passengers do not have an age value. How did you deal with this? <small>What are some other ways of dealing with this?</small>"
     ]
    },
    {
     "cell_type": "markdown",
     "metadata": {},
     "source": [
      "As mentioned above, I assumed that the unknown ages have the same mean as the known ones. I am quite sure that this is an incorrect assumption, and it would be subject to some variability. One way to compensate would be to look at actuarial tables from the time and compare how the age profile of the known ages aligns with the general population distribution, and use that to predict what the mean age of the unknown passengers would probably be. Alternative approaches could look at the relationships (parent, child, spouse, sibling) to others whose ages may be known, using those facts to place limits on each person's age.\n",
      "\n",
      "For purposes of the predictive modeling, we could choose to substitute a predetermined mean in for each of these ages (as demonstrated in class) or to leave them as unknown and handle them accordingly in our learning model. (My own preference would be for the latter.)"
     ]
    },
    {
     "cell_type": "heading",
     "level": 3,
     "metadata": {},
     "source": [
      "8.\tWhat is the average age of passengers who survived?"
     ]
    },
    {
     "cell_type": "code",
     "collapsed": false,
     "input": [
      "survmeans = titanic_data.pivot_table('Age', rows='Survived', aggfunc='mean')\n",
      "print survmeans"
     ],
     "language": "python",
     "metadata": {},
     "outputs": [
      {
       "output_type": "stream",
       "stream": "stdout",
       "text": [
        "Survived\n",
        "0           30.626\n",
        "1           28.344\n",
        "Name: Age, dtype: float64\n"
       ]
      }
     ],
     "prompt_number": 84
    },
    {
     "cell_type": "markdown",
     "metadata": {},
     "source": [
      "The average age of the passengers (those whose age was known) who survived is 28.3."
     ]
    },
    {
     "cell_type": "heading",
     "level": 3,
     "metadata": {},
     "source": [
      "9.\tWhat is the average age of passengers who did not survive?"
     ]
    },
    {
     "cell_type": "code",
     "collapsed": false,
     "input": [
      "survmeans = titanic_data.pivot_table('Age', rows='Survived', aggfunc='mean')\n",
      "print survmeans"
     ],
     "language": "python",
     "metadata": {},
     "outputs": [
      {
       "output_type": "stream",
       "stream": "stdout",
       "text": [
        "Survived\n",
        "0           30.626\n",
        "1           28.344\n",
        "Name: Age, dtype: float64\n"
       ]
      }
     ],
     "prompt_number": 83
    },
    {
     "cell_type": "markdown",
     "metadata": {},
     "source": [
      "The average age of the passengers (those whose age was known) who did not survive is 30.6."
     ]
    },
    {
     "cell_type": "heading",
     "level": 3,
     "metadata": {},
     "source": [
      "10. At this (early) point in our analysis, what might you infer about any patterns you are seeing?"
     ]
    },
    {
     "cell_type": "markdown",
     "metadata": {},
     "source": [
      "So far, the inferences would appear to be as follows:\n",
      "\n",
      "- The women had a much higher survival rate (74%) than the men (19%).\n",
      "- The average age of the survivors is just 2 years younger than the average age of the non-survivors (28.3 versus 30.6).\n",
      "- The age difference is more likely due to gender selection and the protection of children than able-bodiedness.\n",
      "- The biggest pattern I see is the bias for women and against men, which has been well-documented in historical accounts."
     ]
    },
    {
     "cell_type": "heading",
     "level": 3,
     "metadata": {},
     "source": [
      "11. How many passengers are in each of the three classes of service (e.g. First, Second, Third?)"
     ]
    },
    {
     "cell_type": "code",
     "collapsed": false,
     "input": [
      "info = titanic_data.Pclass.value_counts()\n",
      "print info"
     ],
     "language": "python",
     "metadata": {},
     "outputs": [
      {
       "output_type": "stream",
       "stream": "stdout",
       "text": [
        "3    491\n",
        "1    216\n",
        "2    184\n",
        "dtype: int64\n"
       ]
      }
     ],
     "prompt_number": 66
    },
    {
     "cell_type": "heading",
     "level": 3,
     "metadata": {},
     "source": [
      "12. What is the survival rate for passengers in each of the three classes of service?"
     ]
    },
    {
     "cell_type": "code",
     "collapsed": false,
     "input": [
      "classrates = titanic_data.pivot_table('Survived', rows='Pclass', aggfunc='mean')\n",
      "print classrates"
     ],
     "language": "python",
     "metadata": {},
     "outputs": [
      {
       "output_type": "stream",
       "stream": "stdout",
       "text": [
        "Pclass\n",
        "1         0.630\n",
        "2         0.473\n",
        "3         0.242\n",
        "Name: Survived, dtype: float64\n"
       ]
      }
     ],
     "prompt_number": 85
    },
    {
     "cell_type": "markdown",
     "metadata": {},
     "source": [
      "The survival rates are 63% for first class, 47.3% for second class, and 24.2% for third class."
     ]
    },
    {
     "cell_type": "heading",
     "level": 3,
     "metadata": {},
     "source": [
      "13. What else might you conclude?"
     ]
    },
    {
     "cell_type": "markdown",
     "metadata": {},
     "source": [
      "From this, I would conclude that the survival rate was quite stongly correlated with class.\n",
      "\n",
      "- I'd be curious to see how this relates to the actual fare paid as well. Was it simply a matter of wealth that made the difference (which I doubt) or more a matter of class association?\n",
      "- After seeing the Titanic movie from 1997, I wonder if the third class passengers were really locked in steerage as depicted in the film. I find it hard to believe that nearly a quarter of them would have survived if that were the case."
     ]
    },
    {
     "cell_type": "heading",
     "level": 3,
     "metadata": {},
     "source": [
      "14. Last, if we were to build a predictive model, which features in the data do you think we should include in the model and which can we leave out? Why?"
     ]
    },
    {
     "cell_type": "markdown",
     "metadata": {},
     "source": [
      "We don't need PassengerId for the predictive model, but we do need to keep it as an identifer key for testing and validation.\n",
      "We can clearly leave out Name and Ticket, and we most clearly need to keep Survived, Pclass, Sex, and Age.\n",
      "\n",
      "This leaves 5 features which are up for question: SibSp, Parch, Fare, Cabin, and Embarked.\n",
      "\n",
      "Of these, I would think that Cabin is most relevant, since it determines where on the boat any passenger would have started from, what news or information they would have heard as the disaster progressed, and which lifeboats (port or starboard) they would have gone to.\n",
      "\n",
      "I would also think that SibSp and Parch are also relevent, since they indirectly indicate the size of a group that was traveling together and the relations between them that may help to determine who among them survived.\n",
      "\n",
      "One would think that Embarked and Fare are not all that relevant, but I would keep them in the model. Embarked could relate to the tenacity and the social connections of the people getting on at each port, which may have some bearing on survival rate. Fare would seem less important, but I would hold that anybody who paid excessively (epecially for second and third class passage) would be unlikely to have the quickest wit in an emergency situation.\n",
      "\n",
      "I'm thinking along the lines of a rule-based learning algorithm, which I would tie to what is known historically about how the lifeboat triage was handled, while allowing enough variability to incorporate other unknown factors. At some level, I believe there was an element of true randomness in the actual circumstance, so any model that does better that 80% is probably overdetermined."
     ]
    }
   ],
   "metadata": {}
  }
 ]
}
