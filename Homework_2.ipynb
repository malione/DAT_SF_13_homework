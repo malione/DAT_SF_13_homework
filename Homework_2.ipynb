{
 "metadata": {
  "name": ""
 },
 "nbformat": 3,
 "nbformat_minor": 0,
 "worksheets": [
  {
   "cells": [
    {
     "cell_type": "heading",
     "level": 1,
     "metadata": {},
     "source": [
      "Homework #2 -- Michael Malione"
     ]
    },
    {
     "cell_type": "code",
     "collapsed": false,
     "input": [
      "%matplotlib inline\n",
      "from __future__ import division\n",
      "import pandas as pd\n",
      "import numpy as np\n",
      "#from seaborn import plt\n",
      "import matplotlib.pyplot as plt\n",
      "from sklearn.datasets import load_iris\n",
      "\n",
      "from matplotlib.colors import ListedColormap\n",
      "from sklearn import neighbors, datasets, feature_selection\n",
      "from sklearn.cross_validation import train_test_split, cross_val_score\n",
      "\n",
      "# Various variables we'll need to set intially.\n",
      "n_neighbors = range(1, 51, 2)\n",
      "print n_neighbors\n",
      "\n",
      "# Load in the data\n",
      "iris = datasets.load_iris()\n",
      "iris_df = pd.DataFrame(iris.data, columns=iris.feature_names)\n",
      "#iris_df.head()\n",
      "iris_df.describe()"
     ],
     "language": "python",
     "metadata": {},
     "outputs": [
      {
       "output_type": "stream",
       "stream": "stdout",
       "text": [
        "[1, 3, 5, 7, 9, 11, 13, 15, 17, 19, 21, 23, 25, 27, 29, 31, 33, 35, 37, 39, 41, 43, 45, 47, 49]\n"
       ]
      },
      {
       "html": [
        "<div style=\"max-height:1000px;max-width:1500px;overflow:auto;\">\n",
        "<table border=\"1\" class=\"dataframe\">\n",
        "  <thead>\n",
        "    <tr style=\"text-align: right;\">\n",
        "      <th></th>\n",
        "      <th>sepal length (cm)</th>\n",
        "      <th>sepal width (cm)</th>\n",
        "      <th>petal length (cm)</th>\n",
        "      <th>petal width (cm)</th>\n",
        "    </tr>\n",
        "  </thead>\n",
        "  <tbody>\n",
        "    <tr>\n",
        "      <th>count</th>\n",
        "      <td> 150.000000</td>\n",
        "      <td> 150.000000</td>\n",
        "      <td> 150.000000</td>\n",
        "      <td> 150.000000</td>\n",
        "    </tr>\n",
        "    <tr>\n",
        "      <th>mean</th>\n",
        "      <td>   5.843333</td>\n",
        "      <td>   3.054000</td>\n",
        "      <td>   3.758667</td>\n",
        "      <td>   1.198667</td>\n",
        "    </tr>\n",
        "    <tr>\n",
        "      <th>std</th>\n",
        "      <td>   0.828066</td>\n",
        "      <td>   0.433594</td>\n",
        "      <td>   1.764420</td>\n",
        "      <td>   0.763161</td>\n",
        "    </tr>\n",
        "    <tr>\n",
        "      <th>min</th>\n",
        "      <td>   4.300000</td>\n",
        "      <td>   2.000000</td>\n",
        "      <td>   1.000000</td>\n",
        "      <td>   0.100000</td>\n",
        "    </tr>\n",
        "    <tr>\n",
        "      <th>25%</th>\n",
        "      <td>   5.100000</td>\n",
        "      <td>   2.800000</td>\n",
        "      <td>   1.600000</td>\n",
        "      <td>   0.300000</td>\n",
        "    </tr>\n",
        "    <tr>\n",
        "      <th>50%</th>\n",
        "      <td>   5.800000</td>\n",
        "      <td>   3.000000</td>\n",
        "      <td>   4.350000</td>\n",
        "      <td>   1.300000</td>\n",
        "    </tr>\n",
        "    <tr>\n",
        "      <th>75%</th>\n",
        "      <td>   6.400000</td>\n",
        "      <td>   3.300000</td>\n",
        "      <td>   5.100000</td>\n",
        "      <td>   1.800000</td>\n",
        "    </tr>\n",
        "    <tr>\n",
        "      <th>max</th>\n",
        "      <td>   7.900000</td>\n",
        "      <td>   4.400000</td>\n",
        "      <td>   6.900000</td>\n",
        "      <td>   2.500000</td>\n",
        "    </tr>\n",
        "  </tbody>\n",
        "</table>\n",
        "</div>"
       ],
       "metadata": {},
       "output_type": "pyout",
       "prompt_number": 4,
       "text": [
        "       sepal length (cm)  sepal width (cm)  petal length (cm)  \\\n",
        "count         150.000000        150.000000         150.000000   \n",
        "mean            5.843333          3.054000           3.758667   \n",
        "std             0.828066          0.433594           1.764420   \n",
        "min             4.300000          2.000000           1.000000   \n",
        "25%             5.100000          2.800000           1.600000   \n",
        "50%             5.800000          3.000000           4.350000   \n",
        "75%             6.400000          3.300000           5.100000   \n",
        "max             7.900000          4.400000           6.900000   \n",
        "\n",
        "       petal width (cm)  \n",
        "count        150.000000  \n",
        "mean           1.198667  \n",
        "std            0.763161  \n",
        "min            0.100000  \n",
        "25%            0.300000  \n",
        "50%            1.300000  \n",
        "75%            1.800000  \n",
        "max            2.500000  "
       ]
      }
     ],
     "prompt_number": 4
    },
    {
     "cell_type": "heading",
     "level": 3,
     "metadata": {},
     "source": [
      "1.\tImplement KNN classification, using the sklearn package. <small>We learned how to do this in class. See also: http://scikit-learn.org/stable/modules/neighbors.html#nearest-neighbors-classification</small>"
     ]
    },
    {
     "cell_type": "code",
     "collapsed": false,
     "input": [
      "# Create the training (and test) set using scikit-learn's train_test_split function\n",
      "x_train, x_test, y_train, y_test = train_test_split(iris.data, iris.target, test_size=0.2, random_state=12)\n",
      "\n",
      "# Implement KNN classification with a K size of 11.\n",
      "ksize = 11\n",
      "scores = []\n",
      "clf = neighbors.KNeighborsClassifier(ksize)\n",
      "clf.fit(x_train, y_train)\n",
      "scores.append(clf.score(x_test, y_test))\n",
      "scores.append(clf.score(x_train, y_train))\n",
      "print \"Training accuracy is {:.1%}.\\nTest accuracy is {:.1%}.\".format(scores[1], scores[0])"
     ],
     "language": "python",
     "metadata": {},
     "outputs": [
      {
       "output_type": "stream",
       "stream": "stdout",
       "text": [
        "Training accuracy is 97.5%.\n",
        "Test accuracy is 100.0%.\n"
       ]
      }
     ],
     "prompt_number": 5
    },
    {
     "cell_type": "heading",
     "level": 3,
     "metadata": {},
     "source": [
      "2.\tUse the sklearn package to implement cross-validation for your classifier. <small>Use 5 folds for your cross-validation. See also: http://scikit-learn.org/stable/modules/cross_validation.html#</small>"
     ]
    },
    {
     "cell_type": "code",
     "collapsed": false,
     "input": [
      "# Implement cross-validation using the sklearn cross_val_score function\n",
      "from sklearn.cross_validation import cross_val_score\n",
      "clf = neighbors.KNeighborsClassifier(11, weights='uniform')\n",
      "scores = cross_val_score(clf, iris_df.values, iris.target, cv=5)\n",
      "\n",
      "# Print the resulting scores and their mean, which represents the overall accuracy.\n",
      "print \"Cross-validation scores:\\t\", scores\n",
      "print \"Overall classifier accuracy:\\t\", scores.mean()"
     ],
     "language": "python",
     "metadata": {},
     "outputs": [
      {
       "output_type": "stream",
       "stream": "stdout",
       "text": [
        "Cross-validation scores:\t[ 1.          1.          0.93333333  1.          0.96666667]\n",
        "Overall classifier accuracy:\t0.98\n"
       ]
      }
     ],
     "prompt_number": 6
    },
    {
     "cell_type": "heading",
     "level": 3,
     "metadata": {},
     "source": [
      "3.\tUse your KNN classifier and cross-validation code from (1) and (2) above to determine the optimal value of K (number of nearest neighbors to consult) for this Iris dataset."
     ]
    },
    {
     "cell_type": "code",
     "collapsed": false,
     "input": [
      "# Use a pandas Series to hold the accuracy results of cross-testing on K\n",
      "obj = pd.Series()\n",
      "for K in range(1, 151):\n",
      "    clf = neighbors.KNeighborsClassifier(K, weights='uniform')\n",
      "    obj[str(K)] = cross_val_score(clf, iris_df.values, iris.target, cv=5).mean()\n",
      "    \n",
      "# Filter the resulting Series of mean scores by its maximum value, and show the results.\n",
      "opt = obj[obj == obj.max()]\n",
      "print opt\n",
      "print \"\\nThe optimal value of K is multimodal, with a main mode around 11 or 12, and equal peaks at K = 15 and K = 17.\"\n",
      "print \"The optimal classifier accuracy on this data, which occurs for these values of K, is 98%.\" "
     ],
     "language": "python",
     "metadata": {},
     "outputs": [
      {
       "output_type": "stream",
       "stream": "stdout",
       "text": [
        "11    0.98\n",
        "12    0.98\n",
        "15    0.98\n",
        "17    0.98\n",
        "dtype: float64\n",
        "\n",
        "The optimal value of K is multimodal, with a main mode around 11 or 12, and equal peaks at K = 15 and K = 17.\n",
        "The optimal classifier accuracy on this data, which occurs for these values of K, is 98%.\n"
       ]
      }
     ],
     "prompt_number": 7
    },
    {
     "cell_type": "heading",
     "level": 3,
     "metadata": {},
     "source": [
      "4.\tUsing matplotlib, plot classifier accuracy versus the hyperparameter K for a range of K that you consider interesting. Explain in words what you are seeing."
     ]
    },
    {
     "cell_type": "code",
     "collapsed": false,
     "input": [
      "plt.plot(obj.index[:140], obj.values[:140], linewidth=3.0)\n",
      "print \"For values of K above 120, the accuracy remains uniform at {:.1%}.\".format(obj[\"120\"])"
     ],
     "language": "python",
     "metadata": {},
     "outputs": [
      {
       "output_type": "stream",
       "stream": "stdout",
       "text": [
        "For values of K above 120, the accuracy remains uniform at 33.3%.\n"
       ]
      },
      {
       "metadata": {},
       "output_type": "display_data",
       "png": "[encoded data removed]",
       "text": [
        "<matplotlib.figure.Figure at 0x103555bd0>"
       ]
      }
     ],
     "prompt_number": 8
    },
    {
     "cell_type": "markdown",
     "metadata": {},
     "source": [
      "In the plot above, we see the classifier accuracy results from the cross-testing over the entire range of K from 1 to 120. There seems to be a plateau of relatively high accuracy (>85%) for values of K ranging from 1 to 80, and then a sudden drop to the 65% range, which holds as a second relatively flat area until K reaches 100. Beyond 100, K drops of gradually at first and then more suddenly as K approaches 120, remaining constant thereafter.\n",
      "\n",
      "In the primary range of interest, the first and highest plateau, the accuracy curves slightly upward for values of K from 1 to 10, with greatest accuracy achieved for K in the low teens, and then falling off to 90% and below as K approaches 80. The falloff is not smooth, and there are noisy wiggles throughout this primary plateau."
     ]
    },
    {
     "cell_type": "code",
     "collapsed": false,
     "input": [
      "plt.plot(obj.index[:40], obj.values[:40], linewidth=3.0)"
     ],
     "language": "python",
     "metadata": {},
     "outputs": [
      {
       "metadata": {},
       "output_type": "pyout",
       "prompt_number": 9,
       "text": [
        "[<matplotlib.lines.Line2D at 0x10894e210>]"
       ]
      },
      {
       "metadata": {},
       "output_type": "display_data",
       "png": "[encoded data removed]",
       "text": [
        "<matplotlib.figure.Figure at 0x103555750>"
       ]
      }
     ],
     "prompt_number": 9
    },
    {
     "cell_type": "markdown",
     "metadata": {},
     "source": [
      "Looking more closely at the first half of the primary plateau, we see that the classifer accuracy is quite noisy in K. The optimum classifier accuracy of 98% occurs when K = 11, 12, 15, or 17."
     ]
    },
    {
     "cell_type": "heading",
     "level": 3,
     "metadata": {},
     "source": [
      "5.\tNow, write your own implementation of cross-validation in Python without using the cross-validation methods from sklearn. Cross validation is a very important concept. Implementing it yourself in Python is the best way to learn and understand it. Compare the results of your cross-validation code with your results using the cross-validation in sklearn."
     ]
    },
    {
     "cell_type": "code",
     "collapsed": false,
     "input": [
      "def my_cross_val_score( classifier, data_values, data_target, cv ):\n",
      "    # Validate the procedure's inputs\n",
      "    datalen = len(data_values)\n",
      "    folds = int(cv + 0.5)\n",
      "\n",
      "    # Make sure the data_target and data_values are big enough and have the same length\n",
      "    if datalen < 2 or len(data_target) < 2:\n",
      "        raise ValueError(\"The data set must contain at least two values for cross validation.\")\n",
      "    if datalen != len(data_target):\n",
      "        raise ValueError(\"The data_values and data_target must both be the same size.\")\n",
      "    # Run some sanity checking on cv: Throw an error if cv is less than 2 or greater than datalen\n",
      "    if datalen < cv:\n",
      "        raise ValueError(\"The value for cv cannot exceed the size of the data set.\")\n",
      "    if cv < 2:\n",
      "        raise ValueError(\"The value for cv cannot be less than two.\")\n",
      "    \n",
      "    # Generate a list of index values from 0 to nfolds-1, and permute this list randomly.\n",
      "    randlist = np.random.permutation(range(0, datalen))\n",
      "    basesize = int(datalen/cv)\n",
      "\n",
      "    # Break the indices into folds, which will be used as slices for indexing the data\n",
      "    folds, offset = [], 0\n",
      "    for i in range(0, cv):\n",
      "        size = basesize + 1 if i < datalen % cv else basesize \n",
      "        folds.append(randlist[offset:offset+size])\n",
      "        offset += size\n",
      "\n",
      "    # Loop through the folds, training on all other folds and training on the selected fold.\n",
      "    # With each loop, append the resulting score to the scores array, which will be returned.\n",
      "    scores = []\n",
      "    for i in range(0, cv):\n",
      "        test_slice = np.zeros(datalen)\n",
      "        test_slice[folds[i]] = True\n",
      "        x_test = data_values[test_slice == True]\n",
      "        x_train = data_values[test_slice == False]\n",
      "        y_test = data_target[test_slice == True]\n",
      "        y_train = data_target[test_slice == False]\n",
      "        clf.fit(x_train, y_train)\n",
      "        scores.append(clf.score(x_test, y_test))\n",
      "    return np.array(scores)\n",
      "\n",
      "\n"
     ],
     "language": "python",
     "metadata": {},
     "outputs": [],
     "prompt_number": 14
    },
    {
     "cell_type": "code",
     "collapsed": false,
     "input": [
      "# Use a pandas Series to hold the accuracy results of cross-testing on K\n",
      "obj1 = pd.Series()\n",
      "obj2 = pd.Series()\n",
      "for K in range(1, 151):\n",
      "    clf = neighbors.KNeighborsClassifier(K, weights='uniform')\n",
      "    obj1[str(K)] = cross_val_score(clf, iris_df.values, iris.target, cv=5).mean()\n",
      "    obj2[str(K)] = my_cross_val_score(clf, iris_df.values, iris.target, cv=5).mean()\n",
      "    print \"{}:\\t{:.6f}\\t{:.6f}\".format(K,obj1[str(K)],obj2[str(K)])\n",
      "\n",
      "# Filter the resulting Series of mean scores by its maximum value, and show the results.\n",
      "opt = obj2[obj2 == obj2.max()]\n",
      "print opt\n",
      "   "
     ],
     "language": "python",
     "metadata": {},
     "outputs": [
      {
       "output_type": "stream",
       "stream": "stdout",
       "text": [
        "1:\t0.953333\t0.960000\n",
        "2:\t0.946667\t0.946667\n",
        "3:\t0.960000\t0.966667"
       ]
      },
      {
       "output_type": "stream",
       "stream": "stdout",
       "text": [
        "\n",
        "4:\t0.953333\t0.946667\n",
        "5:\t0.960000\t0.946667"
       ]
      },
      {
       "output_type": "stream",
       "stream": "stdout",
       "text": [
        "\n",
        "6:\t0.953333\t0.953333\n",
        "7:\t0.960000\t0.973333"
       ]
      },
      {
       "output_type": "stream",
       "stream": "stdout",
       "text": [
        "\n",
        "8:\t0.960000\t0.966667\n",
        "9:\t0.966667\t0.960000\n",
        "10:\t0.966667\t0.973333"
       ]
      },
      {
       "output_type": "stream",
       "stream": "stdout",
       "text": [
        "\n",
        "11:\t0.980000\t0.966667\n",
        "12:\t0.980000\t0.953333\n",
        "13:\t0.973333\t0.946667"
       ]
      },
      {
       "output_type": "stream",
       "stream": "stdout",
       "text": [
        "\n",
        "14:\t0.966667\t0.960000\n",
        "15:\t0.980000\t0.960000\n",
        "16:\t0.966667\t0.966667"
       ]
      },
      {
       "output_type": "stream",
       "stream": "stdout",
       "text": [
        "\n",
        "17:\t0.980000\t0.953333\n",
        "18:\t0.973333\t0.966667\n",
        "19:\t0.973333\t0.973333"
       ]
      },
      {
       "output_type": "stream",
       "stream": "stdout",
       "text": [
        "\n",
        "20:\t0.960000\t0.946667\n",
        "21:\t0.960000\t0.946667\n",
        "22:\t0.966667\t0.960000"
       ]
      },
      {
       "output_type": "stream",
       "stream": "stdout",
       "text": [
        "\n",
        "23:\t0.960000\t0.920000\n",
        "24:\t0.953333\t0.960000\n",
        "25:\t0.946667\t0.953333"
       ]
      },
      {
       "output_type": "stream",
       "stream": "stdout",
       "text": [
        "\n",
        "26:\t0.946667\t0.946667\n",
        "27:\t0.953333\t0.933333"
       ]
      },
      {
       "output_type": "stream",
       "stream": "stdout",
       "text": [
        "\n",
        "28:\t0.966667\t0.946667\n",
        "29:\t0.966667\t0.953333\n",
        "30:\t0.953333\t0.953333"
       ]
      },
      {
       "output_type": "stream",
       "stream": "stdout",
       "text": [
        "\n",
        "31:\t0.953333\t0.933333\n",
        "32:\t0.946667\t0.933333\n",
        "33:\t0.946667\t0.966667"
       ]
      },
      {
       "output_type": "stream",
       "stream": "stdout",
       "text": [
        "\n",
        "34:\t0.946667\t0.946667\n",
        "35:\t0.940000\t0.946667"
       ]
      },
      {
       "output_type": "stream",
       "stream": "stdout",
       "text": [
        "\n",
        "36:\t0.940000\t0.933333\n",
        "37:\t0.946667\t0.933333\n",
        "38:\t0.940000\t0.926667"
       ]
      },
      {
       "output_type": "stream",
       "stream": "stdout",
       "text": [
        "\n",
        "39:\t0.940000\t0.926667\n",
        "40:\t0.940000\t0.940000"
       ]
      },
      {
       "output_type": "stream",
       "stream": "stdout",
       "text": [
        "\n",
        "41:\t0.946667\t0.926667\n",
        "42:\t0.920000\t0.913333\n",
        "43:\t0.946667\t0.900000"
       ]
      },
      {
       "output_type": "stream",
       "stream": "stdout",
       "text": [
        "\n",
        "44:\t0.920000\t0.940000\n",
        "45:\t0.933333\t0.933333\n",
        "46:\t0.933333\t0.913333"
       ]
      },
      {
       "output_type": "stream",
       "stream": "stdout",
       "text": [
        "\n",
        "47:\t0.933333\t0.920000\n",
        "48:\t0.933333\t0.926667\n",
        "49:\t0.926667\t0.926667"
       ]
      },
      {
       "output_type": "stream",
       "stream": "stdout",
       "text": [
        "\n",
        "50:\t0.913333\t0.906667\n",
        "51:\t0.926667\t0.913333\n",
        "52:\t0.913333\t0.913333"
       ]
      },
      {
       "output_type": "stream",
       "stream": "stdout",
       "text": [
        "\n",
        "53:\t0.913333\t0.873333\n",
        "54:\t0.900000\t0.893333\n",
        "55:\t0.920000\t0.906667"
       ]
      },
      {
       "output_type": "stream",
       "stream": "stdout",
       "text": [
        "\n",
        "56:\t0.913333\t0.900000\n",
        "57:\t0.900000\t0.926667\n",
        "58:\t0.893333\t0.886667"
       ]
      },
      {
       "output_type": "stream",
       "stream": "stdout",
       "text": [
        "\n",
        "59:\t0.886667\t0.906667\n",
        "60:\t0.873333\t0.900000\n",
        "61:\t0.886667\t0.886667"
       ]
      },
      {
       "output_type": "stream",
       "stream": "stdout",
       "text": [
        "\n",
        "62:\t0.880000\t0.913333\n",
        "63:\t0.880000\t0.893333\n",
        "64:\t0.880000\t0.906667"
       ]
      },
      {
       "output_type": "stream",
       "stream": "stdout",
       "text": [
        "\n",
        "65:\t0.880000\t0.886667\n",
        "66:\t0.880000\t0.893333\n",
        "67:\t0.873333\t0.886667"
       ]
      },
      {
       "output_type": "stream",
       "stream": "stdout",
       "text": [
        "\n",
        "68:\t0.873333\t0.860000\n",
        "69:\t0.880000\t0.880000\n",
        "70:\t0.880000\t0.866667"
       ]
      },
      {
       "output_type": "stream",
       "stream": "stdout",
       "text": [
        "\n",
        "71:\t0.880000\t0.773333\n",
        "72:\t0.886667\t0.846667\n",
        "73:\t0.893333\t0.886667"
       ]
      },
      {
       "output_type": "stream",
       "stream": "stdout",
       "text": [
        "\n",
        "74:\t0.893333\t0.720000\n",
        "75:\t0.873333\t0.686667\n",
        "76:\t0.873333\t0.826667"
       ]
      },
      {
       "output_type": "stream",
       "stream": "stdout",
       "text": [
        "\n",
        "77:\t0.866667\t0.766667\n",
        "78:\t0.873333\t0.673333\n",
        "79:\t0.873333\t0.760000"
       ]
      },
      {
       "output_type": "stream",
       "stream": "stdout",
       "text": [
        "\n",
        "80:\t0.660000\t0.586667\n",
        "81:\t0.660000\t0.580000\n",
        "82:\t0.660000\t0.600000"
       ]
      },
      {
       "output_type": "stream",
       "stream": "stdout",
       "text": [
        "\n",
        "83:\t0.660000\t0.713333\n",
        "84:\t0.660000\t0.620000\n",
        "85:\t0.660000\t0.506667"
       ]
      },
      {
       "output_type": "stream",
       "stream": "stdout",
       "text": [
        "\n",
        "86:\t0.660000\t0.486667\n",
        "87:\t0.660000\t0.580000\n",
        "88:\t0.660000\t0.613333"
       ]
      },
      {
       "output_type": "stream",
       "stream": "stdout",
       "text": [
        "\n",
        "89:\t0.660000\t0.520000\n",
        "90:\t0.660000\t0.393333"
       ]
      },
      {
       "output_type": "stream",
       "stream": "stdout",
       "text": [
        "\n",
        "91:\t0.660000\t0.526667"
       ]
      },
      {
       "output_type": "stream",
       "stream": "stdout",
       "text": [
        "\n",
        "92:\t0.660000\t0.553333"
       ]
      },
      {
       "output_type": "stream",
       "stream": "stdout",
       "text": [
        "\n",
        "93:\t0.660000\t0.486667\n",
        "94:\t0.660000\t0.446667\n",
        "95:\t0.660000\t0.480000"
       ]
      },
      {
       "output_type": "stream",
       "stream": "stdout",
       "text": [
        "\n",
        "96:\t0.660000\t0.540000\n",
        "97:\t0.660000\t0.500000"
       ]
      },
      {
       "output_type": "stream",
       "stream": "stdout",
       "text": [
        "\n",
        "98:\t0.660000\t0.560000\n",
        "99:\t0.653333\t0.413333"
       ]
      },
      {
       "output_type": "stream",
       "stream": "stdout",
       "text": [
        "\n",
        "100:\t0.646667\t0.520000\n",
        "101:\t0.646667\t0.520000"
       ]
      },
      {
       "output_type": "stream",
       "stream": "stdout",
       "text": [
        "\n",
        "102:\t0.646667\t0.466667\n",
        "103:\t0.646667\t0.506667\n",
        "104:\t0.646667\t0.600000"
       ]
      },
      {
       "output_type": "stream",
       "stream": "stdout",
       "text": [
        "\n",
        "105:\t0.646667\t0.500000\n",
        "106:\t0.646667\t0.493333"
       ]
      },
      {
       "output_type": "stream",
       "stream": "stdout",
       "text": [
        "\n",
        "107:\t0.646667\t0.480000"
       ]
      },
      {
       "output_type": "stream",
       "stream": "stdout",
       "text": [
        "\n",
        "108:\t0.640000\t0.400000\n",
        "109:\t0.640000\t0.480000"
       ]
      },
      {
       "output_type": "stream",
       "stream": "stdout",
       "text": [
        "\n",
        "110:\t0.640000\t0.586667\n",
        "111:\t0.640000\t0.440000"
       ]
      },
      {
       "output_type": "stream",
       "stream": "stdout",
       "text": [
        "\n",
        "112:\t0.633333\t0.440000\n",
        "113:\t0.620000\t0.440000"
       ]
      },
      {
       "output_type": "stream",
       "stream": "stdout",
       "text": [
        "\n",
        "114:\t0.620000\t0.346667\n",
        "115:\t0.606667\t0.406667"
       ]
      },
      {
       "output_type": "stream",
       "stream": "stdout",
       "text": [
        "\n",
        "116:\t0.586667\t0.386667\n",
        "117:\t0.586667\t0.366667\n",
        "118:\t0.566667\t0.333333"
       ]
      },
      {
       "output_type": "stream",
       "stream": "stdout",
       "text": [
        "\n",
        "119:\t0.546667\t0.320000\n",
        "120:\t0.333333\t0.266667"
       ]
      },
      {
       "output_type": "stream",
       "stream": "stdout",
       "text": [
        "\n",
        "121:\t0.333333\t0.280000\n",
        "122:\t0.333333\t0.240000"
       ]
      },
      {
       "output_type": "stream",
       "stream": "stdout",
       "text": [
        "\n",
        "123:\t0.333333\t0.273333\n",
        "124:\t0.333333\t0.260000"
       ]
      },
      {
       "output_type": "stream",
       "stream": "stdout",
       "text": [
        "\n",
        "125:\t0.333333\t0.240000\n",
        "126:\t0.333333\t0.260000"
       ]
      },
      {
       "output_type": "stream",
       "stream": "stdout",
       "text": [
        "\n",
        "127:\t0.333333\t0.266667\n",
        "128:\t0.333333\t0.273333"
       ]
      },
      {
       "output_type": "stream",
       "stream": "stdout",
       "text": [
        "\n",
        "129:\t0.333333\t0.280000"
       ]
      },
      {
       "output_type": "stream",
       "stream": "stdout",
       "text": [
        "\n",
        "130:\t0.333333\t0.286667\n",
        "131:\t0.333333\t0.273333"
       ]
      },
      {
       "output_type": "stream",
       "stream": "stdout",
       "text": [
        "\n",
        "132:\t0.333333\t0.240000\n",
        "133:\t0.333333\t0.253333"
       ]
      },
      {
       "output_type": "stream",
       "stream": "stdout",
       "text": [
        "\n",
        "134:\t0.333333\t0.233333\n",
        "135:\t0.333333\t0.286667\n",
        "136:\t0.333333\t0.240000"
       ]
      },
      {
       "output_type": "stream",
       "stream": "stdout",
       "text": [
        "\n",
        "137:\t0.333333\t0.246667\n",
        "138:\t0.333333\t0.246667\n",
        "139:\t0.333333\t0.260000"
       ]
      },
      {
       "output_type": "stream",
       "stream": "stdout",
       "text": [
        "\n",
        "140:\t0.333333\t0.280000\n",
        "141:\t0.333333\t0.253333\n",
        "142:\t0.333333\t0.246667"
       ]
      },
      {
       "output_type": "stream",
       "stream": "stdout",
       "text": [
        "\n",
        "143:\t0.333333\t0.286667\n",
        "144:\t0.333333\t0.246667\n",
        "145:\t0.333333\t0.266667"
       ]
      },
      {
       "output_type": "stream",
       "stream": "stdout",
       "text": [
        "\n",
        "146:\t0.333333\t0.266667\n",
        "147:\t0.333333\t0.286667\n",
        "148:\t0.333333\t0.246667"
       ]
      },
      {
       "output_type": "stream",
       "stream": "stdout",
       "text": [
        "\n",
        "149:\t0.333333\t0.233333\n",
        "150:\t0.333333\t0.253333\n",
        "7     0.973333\n",
        "10    0.973333\n",
        "19    0.973333\n",
        "dtype: float64\n"
       ]
      }
     ],
     "prompt_number": 15
    },
    {
     "cell_type": "heading",
     "level": 3,
     "metadata": {},
     "source": [
      "6.\tEXTRA CREDIT 1: Using the value of K obtained in (3) above, vary the number of folds used for cross-validation across an interesting range, e.g. [ 2, 3, 5, 6, 10, 15]. How does classifier accuracy vary with the number of folds used? Do you think there exists an optimal number of folds to use for this particular problem? Why or why not?"
     ]
    },
    {
     "cell_type": "code",
     "collapsed": false,
     "input": [
      "# Generate a list of all divisors for the count n of the dataset, starting with 2. \n",
      "n = len(iris_df)\n",
      "cv_folds = [x for x in range(2, n+1) if n%x==0]\n",
      "\n",
      "# Use a pandas Series to hold the accuracy result for each cross-testing fold value, using K of 11.\n",
      "obj = pd.Series()\n",
      "clf = neighbors.KNeighborsClassifier(11, weights='uniform')\n",
      "for n in cv_folds:\n",
      "    obj[str(n)] = cross_val_score(clf, iris_df.values, iris.target, cv=n).mean()\n",
      "    \n",
      "# Filter the resulting Series of mean scores by its maximum value, and show the results.\n",
      "opt = obj[obj == obj.max()]\n",
      "print opt\n",
      "print \"\\nThe optimal number of folds for K=11 is 5, 10, or 30, all of which yield a classifier accuracy of 98%.\"\n",
      "print \"\\nHere are the general results in table form:\"\n",
      "print obj\n",
      "\n",
      "# Plot the accuracy versus folds using matplotlib.\n",
      "plt.plot(obj.index[:9], obj.values[:9], linewidth=3.0 )\n"
     ],
     "language": "python",
     "metadata": {},
     "outputs": [
      {
       "output_type": "stream",
       "stream": "stdout",
       "text": [
        "5     0.98\n",
        "10    0.98\n",
        "30    0.98\n",
        "dtype: float64\n",
        "\n",
        "The optimal number of folds for K=11 is 5, 10, or 30, all of which yield a classifier accuracy of 98%.\n",
        "\n",
        "Here are the general results in table form:\n",
        "2      0.926667\n",
        "3      0.960000\n",
        "5      0.980000\n",
        "6      0.973333\n",
        "10     0.980000\n",
        "15     0.973333\n",
        "25     0.973333\n",
        "30     0.980000\n",
        "50     0.973333\n",
        "75     0.973333\n",
        "150    0.973333\n",
        "dtype: float64\n"
       ]
      },
      {
       "metadata": {},
       "output_type": "pyout",
       "prompt_number": 87,
       "text": [
        "[<matplotlib.lines.Line2D at 0x10bbb6c50>]"
       ]
      },
      {
       "metadata": {},
       "output_type": "display_data",
       "png": "[encoded data removed]",
       "text": [
        "<matplotlib.figure.Figure at 0x10b994cd0>"
       ]
      }
     ],
     "prompt_number": 87
    },
    {
     "cell_type": "markdown",
     "metadata": {},
     "source": [
      "Clearly, the number of folds makes a difference. However, once you get to 5 or more folds, the accuracy takes on only two different values. There is a higher accuracy of 98% for 5, 10, and 30 folds, and a lower accuracy of 97.3% for all the rest. So, in the grand scheme of things, it doesn't make all that much of a difference, provided that an adequate number of folds (5 or more) are used."
     ]
    },
    {
     "cell_type": "code",
     "collapsed": false,
     "input": [
      "# Just out of curiosity, what happens when K is maximized using a different number of folds?\n",
      "# In that event, does the number of folds really matter, or does it come out the same every time.\n",
      "\n",
      "# Generate a list of all divisors for the count n of the dataset, starting with 2. \n",
      "n = len(iris_df)\n",
      "cv_folds = [x for x in range(2, n+1) if n%x==0]\n",
      "\n",
      "# Use a pandas Series to hold the accuracy result for each cross-testing fold value, using K of 11.\n",
      "obj = pd.Series()\n",
      "for n in cv_folds:\n",
      "    temp = pd.Series()\n",
      "    for K in range(1, 151):\n",
      "        clf = neighbors.KNeighborsClassifier(K, weights='uniform')\n",
      "        temp[str(K)] = cross_val_score(clf, iris_df.values, iris.target, cv=n).mean()\n",
      "\n",
      "    # Filter the resulting Series of mean scores by its maximum value, and show the results.\n",
      "    obj[str(n)] = temp.max()\n",
      "    \n",
      "# Filter the resulting Series of mean scores by its maximum value, and show the results.\n",
      "opt = obj[obj == obj.max()]\n",
      "print opt\n",
      "print \"\\nThe optimal number of folds for K=11 is 5, 10, or 30, all of which yield a classifier accuracy of 98%.\"\n",
      "print \"\\nHere are the general results in table form:\"\n",
      "print obj\n",
      "\n",
      "# Plot the accuracy versus folds using matplotlib.\n",
      "plt.plot(obj.index, obj.values, linewidth=3.0 )\n"
     ],
     "language": "python",
     "metadata": {},
     "outputs": [
      {
       "output_type": "stream",
       "stream": "stdout",
       "text": [
        "5     0.98\n",
        "10    0.98\n",
        "30    0.98\n",
        "dtype: float64\n",
        "\n",
        "The optimal number of folds for K=11 is 5, 10, or 30, all of which yield a classifier accuracy of 98%.\n",
        "\n",
        "Here are the general results in table form:\n",
        "2      0.953333\n",
        "3      0.966667\n",
        "5      0.980000\n",
        "6      0.973333\n",
        "10     0.980000\n",
        "15     0.973333\n",
        "25     0.980000\n",
        "30     0.980000\n",
        "50     0.980000\n",
        "75     0.980000\n",
        "150    0.980000\n",
        "dtype: float64\n"
       ]
      },
      {
       "metadata": {},
       "output_type": "pyout",
       "prompt_number": 88,
       "text": [
        "[<matplotlib.lines.Line2D at 0x10bee0810>]"
       ]
      },
      {
       "metadata": {},
       "output_type": "display_data",
       "png": "[encoded data removed]",
       "text": [
        "<matplotlib.figure.Figure at 0x10a2587d0>"
       ]
      }
     ],
     "prompt_number": 88
    },
    {
     "cell_type": "markdown",
     "metadata": {},
     "source": [
      "So, even when each classifier is optimized in K within its own cross-testing fold, the same general pattern applies. The only difference is that the sub-optimal values are a little bit better than they were with a constant value of K."
     ]
    },
    {
     "cell_type": "heading",
     "level": 3,
     "metadata": {},
     "source": [
      "7.\tEXTRA CREDIT 2: Write your own implementation of KNN classification in Python, without using the methods from sklearn. Compare your results with the results you obtained using sklearn."
     ]
    },
    {
     "cell_type": "code",
     "collapsed": false,
     "input": [
      "class my_KNN_Classifier:\n",
      "    def __init__(self, K):\n",
      "        self.K = K\n",
      "        self.datamap = []\n",
      "    def fit(self, data, target):\n",
      "        if len(data) != len(target):\n",
      "            raise ValueError(\"The data_values and data_target arrays must both be the same size.\")\n",
      "        self.datamap = data\n",
      "        self.targets = target\n",
      "\n",
      "    def apply(self, value):\n",
      "        if len(self.datamap) == 0:\n",
      "            raise ValueError(\"The KNN classifier must be trained before it can be applied.\")\n",
      "  \n",
      "        # Compute a dictionary indexed by distance with entries that are lists of datamap indices\n",
      "        result, distances, place = 0.0, {}, 6\n",
      "        for i in range(len(self.datamap)):\n",
      "            if round(np.dot(self.datamap[i] - value, self.datamap[i] - value), place) in distances:\n",
      "                distances[round(np.dot(self.datamap[i] - value, self.datamap[i] - value), place)].append(i)\n",
      "            else:\n",
      "                distances[round(np.dot(self.datamap[i] - value, self.datamap[i] - value), place)] = [i]\n",
      "\n",
      "        # Then use the list produced above to make a list of the indices of the K nearest neighbors\n",
      "        # This list may have a size greater than K if there are additional equidistant neighbors\n",
      "        count, klist = 0, []\n",
      "        for i in sorted(distances.keys()):\n",
      "            klist += distances[i]\n",
      "            count += len(distances[i])\n",
      "            if count >= self.K:\n",
      "                break\n",
      "        \n",
      "        # Then, create a dictionary that counts the targets resulting from the indices in klist\n",
      "        #    so that the target with the maxcount can be returned\n",
      "        valcount = {}\n",
      "        for i in range(len(klist)):\n",
      "            if self.targets[klist[i]] in valcount:\n",
      "                valcount[self.targets[klist[i]]] += 1\n",
      "            else:\n",
      "                valcount[self.targets[klist[i]]] = 1\n",
      "\n",
      "        # This is a dumb poll. It does not handle the case where multiple results have the same maximum count\n",
      "        # An intelligent way to handle this would be to return the nearest neighboring of these results.\n",
      "        return max(valcount, key=valcount.get)\n",
      "        \n",
      "    def score(self, data, target):\n",
      "        if len(self.datamap) == 0:\n",
      "            raise ValueError(\"The KNN classifier must be trained before it can be scored.\")\n",
      "        result = 0.0\n",
      "        for i in range(len(data)):\n",
      "            if self.apply(data[i]) == target[i]:\n",
      "                result += 1        \n",
      "        return result / len(data)\n",
      "            \n",
      "\n",
      "\n",
      "# Create the training (and test) set using scikit-learn's train_test_split function\n",
      "x_train, x_test, y_train, y_test = train_test_split(iris.data, iris.target, test_size=0.2, random_state=12)\n",
      "                   \n",
      "ksize = 11\n",
      "scores = []\n",
      "myclf = my_KNN_Classifier(11)\n",
      "myclf.fit(x_train, y_train)\n",
      "scores.append(myclf.score(x_test, y_test))\n",
      "scores.append(myclf.score(x_train, y_train))\n",
      "print \"Training accuracy is {:.1%}.\\nTest accuracy is {:.1%}.\".format(scores[1], scores[0])"
     ],
     "language": "python",
     "metadata": {},
     "outputs": [
      {
       "output_type": "stream",
       "stream": "stdout",
       "text": [
        "Training accuracy is 97.5%.\n",
        "Test accuracy is 100.0%.\n"
       ]
      }
     ],
     "prompt_number": 32
    }
   ],
   "metadata": {}
  }
 ]
}